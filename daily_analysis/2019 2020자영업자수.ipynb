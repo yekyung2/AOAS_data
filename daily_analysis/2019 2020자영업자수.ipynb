{
 "cells": [
  {
   "cell_type": "code",
   "execution_count": 2,
   "metadata": {},
   "outputs": [],
   "source": [
    "import pandas as pd\n",
    "import numpy as np\n",
    "import matplotlib.pyplot as plt\n",
    "import seaborn as sns\n",
    "import warnings\n",
    "\n",
    "warnings.filterwarnings('ignore')"
   ]
  },
  {
   "cell_type": "code",
   "execution_count": 3,
   "metadata": {},
   "outputs": [],
   "source": [
    "# 한글폰트 사용을 위한 코드\n",
    "from matplotlib import rc, font_manager\n",
    "%matplotlib inline\n",
    "\n",
    "# 한글폰트 사용을 위한 코드\n",
    "rc('font', family='AppleGothic')\n",
    "plt.rcParams['axes.unicode_minus'] = False"
   ]
  },
  {
   "cell_type": "code",
   "execution_count": 124,
   "metadata": {},
   "outputs": [
    {
     "name": "stdout",
     "output_type": "stream",
     "text": [
      "2019년 국민 체력유지방법.ipynb\r\n",
      "2020년 8월 기준 발달상권현황, 소상공인 실적전망.ipynb\r\n",
      "commerce.xlsx\r\n",
      "flow_age_201902.CSV\r\n",
      "flow_age_201903.CSV\r\n",
      "flow_age_201904.CSV\r\n",
      "flow_age_201905.CSV\r\n",
      "flow_age_202002.CSV\r\n",
      "flow_age_202003.CSV\r\n",
      "flow_age_202004.CSV\r\n",
      "flow_age_202005.CSV\r\n",
      "flow_time_201902.CSV\r\n",
      "flow_time_201903.CSV\r\n",
      "flow_time_201904.CSV\r\n",
      "flow_time_201905.CSV\r\n",
      "flow_time_202002.CSV\r\n",
      "flow_time_202003.CSV\r\n",
      "flow_time_202004.CSV\r\n",
      "flow_time_202005.CSV\r\n",
      "foreign_card_spent.txt\r\n",
      "index.html\r\n",
      "resident_card_spent.txt\r\n",
      "sell_index_geography.xlsx\r\n",
      "sell_index_industry.xlsx\r\n",
      "sell_index_total.xlsx\r\n",
      "shipping3.ipynb\r\n",
      "shipping_2.ipynb\r\n",
      "shipping_data.ipynb\r\n",
      "sns.csv\r\n",
      "stat_154001.xls\r\n",
      "stat_154002.xls\r\n",
      "stat_154003.xls\r\n",
      "체력_유지_방법_20200921205316.xlsx\r\n",
      "체력_유지_방법_20200921205525.csv\r\n",
      "서울시 코로나19 확진자 현황.csv\r\n",
      "상권정보.ipynb\r\n",
      "자영업자.ipynb\r\n",
      "행정구역_시도__종사상지위별_취업자_20200927015702.csv\r\n",
      "행정구역_시도__종사상지위별_취업자_20200927021108.csv\r\n",
      "소상공인_부문별_실적_및_전망_20200924160634.csv\r\n",
      "아동청소년 건강.ipynb\r\n",
      "아동청소년 비만율.ipynb\r\n",
      "사업장현황(전체).xlsx\r\n",
      "골목상권현황.csv\r\n",
      "발달상권현황.csv\r\n",
      "근로복지공단_고용보험 산재보험 적용현황_20200511.csv\r\n",
      "비만율.csv\r\n",
      "상가업소정보_201912_01.csv\r\n",
      "상가업소정보_201912_02.csv\r\n",
      "상가업소정보_201912_03.csv\r\n",
      "상가업소정보_201912_04.csv\r\n",
      "지역화폐가맹점현황.csv\r\n",
      "소상공인시장진흥공단_상가(상권)정보_경기_20200630.csv\r\n",
      "소상공인시장진흥공단_상가(상권)정보_부산_20200630.csv\r\n"
     ]
    }
   ],
   "source": [
    "ls"
   ]
  },
  {
   "cell_type": "code",
   "execution_count": 5,
   "metadata": {},
   "outputs": [],
   "source": [
    "df = pd.read_csv(\"./행정구역_시도__종사상지위별_취업자_20200927021108.csv\", encoding=\"cp949\")"
   ]
  },
  {
   "cell_type": "code",
   "execution_count": 125,
   "metadata": {},
   "outputs": [],
   "source": [
    "df2 = pd.read_csv(\"./서울시 코로나19 확진자 현황.csv\", encoding=\"cp949\")"
   ]
  },
  {
   "cell_type": "code",
   "execution_count": 6,
   "metadata": {},
   "outputs": [
    {
     "data": {
      "text/html": [
       "<div>\n",
       "<style scoped>\n",
       "    .dataframe tbody tr th:only-of-type {\n",
       "        vertical-align: middle;\n",
       "    }\n",
       "\n",
       "    .dataframe tbody tr th {\n",
       "        vertical-align: top;\n",
       "    }\n",
       "\n",
       "    .dataframe thead th {\n",
       "        text-align: right;\n",
       "    }\n",
       "</style>\n",
       "<table border=\"1\" class=\"dataframe\">\n",
       "  <thead>\n",
       "    <tr style=\"text-align: right;\">\n",
       "      <th></th>\n",
       "      <th>시도별</th>\n",
       "      <th>종사상지위별</th>\n",
       "      <th>2019. 02</th>\n",
       "      <th>2019. 03</th>\n",
       "      <th>2019. 04</th>\n",
       "      <th>2019. 05</th>\n",
       "      <th>2019. 06</th>\n",
       "      <th>2019. 07</th>\n",
       "      <th>2019. 08</th>\n",
       "      <th>2019. 09</th>\n",
       "      <th>...</th>\n",
       "      <th>2019. 11</th>\n",
       "      <th>2019. 12</th>\n",
       "      <th>2020. 01</th>\n",
       "      <th>2020. 02</th>\n",
       "      <th>2020. 03</th>\n",
       "      <th>2020. 04</th>\n",
       "      <th>2020. 05</th>\n",
       "      <th>2020. 06</th>\n",
       "      <th>2020. 07</th>\n",
       "      <th>2020. 08</th>\n",
       "    </tr>\n",
       "  </thead>\n",
       "  <tbody>\n",
       "    <tr>\n",
       "      <th>0</th>\n",
       "      <td>계</td>\n",
       "      <td>계</td>\n",
       "      <td>26345.6</td>\n",
       "      <td>26804.7</td>\n",
       "      <td>27038.3</td>\n",
       "      <td>27322.4</td>\n",
       "      <td>27407.6</td>\n",
       "      <td>27382.8</td>\n",
       "      <td>27358.4</td>\n",
       "      <td>27403.7</td>\n",
       "      <td>...</td>\n",
       "      <td>27514.7</td>\n",
       "      <td>27153.7</td>\n",
       "      <td>26799.7</td>\n",
       "      <td>26837.8</td>\n",
       "      <td>26609.3</td>\n",
       "      <td>26562.1</td>\n",
       "      <td>26930.2</td>\n",
       "      <td>27055.2</td>\n",
       "      <td>27106.0</td>\n",
       "      <td>27084.7</td>\n",
       "    </tr>\n",
       "    <tr>\n",
       "      <th>1</th>\n",
       "      <td>계</td>\n",
       "      <td>비임금근로자</td>\n",
       "      <td>6450.2</td>\n",
       "      <td>6615.0</td>\n",
       "      <td>6737.4</td>\n",
       "      <td>6818.1</td>\n",
       "      <td>6852.7</td>\n",
       "      <td>6821.2</td>\n",
       "      <td>6799.4</td>\n",
       "      <td>6779.2</td>\n",
       "      <td>...</td>\n",
       "      <td>6667.9</td>\n",
       "      <td>6464.0</td>\n",
       "      <td>6423.3</td>\n",
       "      <td>6445.3</td>\n",
       "      <td>6553.1</td>\n",
       "      <td>6643.5</td>\n",
       "      <td>6686.0</td>\n",
       "      <td>6644.9</td>\n",
       "      <td>6636.6</td>\n",
       "      <td>6638.8</td>\n",
       "    </tr>\n",
       "    <tr>\n",
       "      <th>2</th>\n",
       "      <td>계</td>\n",
       "      <td>*자영업자</td>\n",
       "      <td>5480.4</td>\n",
       "      <td>5607.2</td>\n",
       "      <td>5654.6</td>\n",
       "      <td>5683.3</td>\n",
       "      <td>5705.9</td>\n",
       "      <td>5675.5</td>\n",
       "      <td>5661.8</td>\n",
       "      <td>5631.8</td>\n",
       "      <td>...</td>\n",
       "      <td>5582.3</td>\n",
       "      <td>5484.7</td>\n",
       "      <td>5461.6</td>\n",
       "      <td>5483.5</td>\n",
       "      <td>5536.9</td>\n",
       "      <td>5582.3</td>\n",
       "      <td>5601.0</td>\n",
       "      <td>5550.9</td>\n",
       "      <td>5547.9</td>\n",
       "      <td>5555.4</td>\n",
       "    </tr>\n",
       "    <tr>\n",
       "      <th>3</th>\n",
       "      <td>계</td>\n",
       "      <td>-고용원이 있는 자영업자</td>\n",
       "      <td>1604.6</td>\n",
       "      <td>1592.4</td>\n",
       "      <td>1567.1</td>\n",
       "      <td>1584.2</td>\n",
       "      <td>1536.2</td>\n",
       "      <td>1520.2</td>\n",
       "      <td>1534.9</td>\n",
       "      <td>1491.0</td>\n",
       "      <td>...</td>\n",
       "      <td>1462.3</td>\n",
       "      <td>1436.0</td>\n",
       "      <td>1450.2</td>\n",
       "      <td>1459.2</td>\n",
       "      <td>1397.7</td>\n",
       "      <td>1387.9</td>\n",
       "      <td>1383.9</td>\n",
       "      <td>1363.2</td>\n",
       "      <td>1345.0</td>\n",
       "      <td>1362.8</td>\n",
       "    </tr>\n",
       "    <tr>\n",
       "      <th>4</th>\n",
       "      <td>계</td>\n",
       "      <td>-고용원이 없는 자영업자</td>\n",
       "      <td>3875.8</td>\n",
       "      <td>4014.8</td>\n",
       "      <td>4087.5</td>\n",
       "      <td>4099.1</td>\n",
       "      <td>4169.7</td>\n",
       "      <td>4155.4</td>\n",
       "      <td>4126.9</td>\n",
       "      <td>4140.8</td>\n",
       "      <td>...</td>\n",
       "      <td>4120.0</td>\n",
       "      <td>4048.7</td>\n",
       "      <td>4011.3</td>\n",
       "      <td>4024.3</td>\n",
       "      <td>4139.2</td>\n",
       "      <td>4194.5</td>\n",
       "      <td>4217.1</td>\n",
       "      <td>4187.7</td>\n",
       "      <td>4202.8</td>\n",
       "      <td>4192.6</td>\n",
       "    </tr>\n",
       "    <tr>\n",
       "      <th>...</th>\n",
       "      <td>...</td>\n",
       "      <td>...</td>\n",
       "      <td>...</td>\n",
       "      <td>...</td>\n",
       "      <td>...</td>\n",
       "      <td>...</td>\n",
       "      <td>...</td>\n",
       "      <td>...</td>\n",
       "      <td>...</td>\n",
       "      <td>...</td>\n",
       "      <td>...</td>\n",
       "      <td>...</td>\n",
       "      <td>...</td>\n",
       "      <td>...</td>\n",
       "      <td>...</td>\n",
       "      <td>...</td>\n",
       "      <td>...</td>\n",
       "      <td>...</td>\n",
       "      <td>...</td>\n",
       "      <td>...</td>\n",
       "      <td>...</td>\n",
       "    </tr>\n",
       "    <tr>\n",
       "      <th>175</th>\n",
       "      <td>제주도</td>\n",
       "      <td>-무급가족종사자</td>\n",
       "      <td>24.0</td>\n",
       "      <td>21.8</td>\n",
       "      <td>20.7</td>\n",
       "      <td>21.6</td>\n",
       "      <td>23.0</td>\n",
       "      <td>23.5</td>\n",
       "      <td>24.0</td>\n",
       "      <td>23.9</td>\n",
       "      <td>...</td>\n",
       "      <td>23.9</td>\n",
       "      <td>24.3</td>\n",
       "      <td>26.5</td>\n",
       "      <td>23.4</td>\n",
       "      <td>24.8</td>\n",
       "      <td>23.5</td>\n",
       "      <td>27.3</td>\n",
       "      <td>26.4</td>\n",
       "      <td>28.9</td>\n",
       "      <td>29.0</td>\n",
       "    </tr>\n",
       "    <tr>\n",
       "      <th>176</th>\n",
       "      <td>제주도</td>\n",
       "      <td>임금근로자</td>\n",
       "      <td>243.5</td>\n",
       "      <td>244.3</td>\n",
       "      <td>245.2</td>\n",
       "      <td>248.8</td>\n",
       "      <td>245.8</td>\n",
       "      <td>238.2</td>\n",
       "      <td>246.0</td>\n",
       "      <td>246.4</td>\n",
       "      <td>...</td>\n",
       "      <td>254.3</td>\n",
       "      <td>255.3</td>\n",
       "      <td>254.4</td>\n",
       "      <td>249.3</td>\n",
       "      <td>234.0</td>\n",
       "      <td>230.6</td>\n",
       "      <td>229.0</td>\n",
       "      <td>230.1</td>\n",
       "      <td>235.4</td>\n",
       "      <td>238.6</td>\n",
       "    </tr>\n",
       "    <tr>\n",
       "      <th>177</th>\n",
       "      <td>제주도</td>\n",
       "      <td>-상용근로자</td>\n",
       "      <td>147.8</td>\n",
       "      <td>150.4</td>\n",
       "      <td>152.1</td>\n",
       "      <td>152.5</td>\n",
       "      <td>149.8</td>\n",
       "      <td>148.8</td>\n",
       "      <td>150.0</td>\n",
       "      <td>152.4</td>\n",
       "      <td>...</td>\n",
       "      <td>156.0</td>\n",
       "      <td>158.7</td>\n",
       "      <td>160.3</td>\n",
       "      <td>160.8</td>\n",
       "      <td>157.8</td>\n",
       "      <td>153.2</td>\n",
       "      <td>154.5</td>\n",
       "      <td>153.7</td>\n",
       "      <td>156.3</td>\n",
       "      <td>159.1</td>\n",
       "    </tr>\n",
       "    <tr>\n",
       "      <th>178</th>\n",
       "      <td>제주도</td>\n",
       "      <td>-임시근로자</td>\n",
       "      <td>64.1</td>\n",
       "      <td>68.3</td>\n",
       "      <td>65.4</td>\n",
       "      <td>65.7</td>\n",
       "      <td>65.8</td>\n",
       "      <td>64.1</td>\n",
       "      <td>65.7</td>\n",
       "      <td>64.3</td>\n",
       "      <td>...</td>\n",
       "      <td>66.4</td>\n",
       "      <td>60.5</td>\n",
       "      <td>60.2</td>\n",
       "      <td>57.3</td>\n",
       "      <td>52.3</td>\n",
       "      <td>52.1</td>\n",
       "      <td>51.6</td>\n",
       "      <td>51.8</td>\n",
       "      <td>53.5</td>\n",
       "      <td>54.6</td>\n",
       "    </tr>\n",
       "    <tr>\n",
       "      <th>179</th>\n",
       "      <td>제주도</td>\n",
       "      <td>-일용근로자</td>\n",
       "      <td>31.6</td>\n",
       "      <td>25.6</td>\n",
       "      <td>27.7</td>\n",
       "      <td>30.6</td>\n",
       "      <td>30.2</td>\n",
       "      <td>25.3</td>\n",
       "      <td>30.2</td>\n",
       "      <td>29.7</td>\n",
       "      <td>...</td>\n",
       "      <td>31.9</td>\n",
       "      <td>36.1</td>\n",
       "      <td>33.9</td>\n",
       "      <td>31.2</td>\n",
       "      <td>23.9</td>\n",
       "      <td>25.2</td>\n",
       "      <td>23.0</td>\n",
       "      <td>24.6</td>\n",
       "      <td>25.6</td>\n",
       "      <td>24.9</td>\n",
       "    </tr>\n",
       "  </tbody>\n",
       "</table>\n",
       "<p>180 rows × 21 columns</p>\n",
       "</div>"
      ],
      "text/plain": [
       "     시도별         종사상지위별  2019. 02  2019. 03  2019. 04  2019. 05  2019. 06  \\\n",
       "0      계              계   26345.6   26804.7   27038.3   27322.4   27407.6   \n",
       "1      계         비임금근로자    6450.2    6615.0    6737.4    6818.1    6852.7   \n",
       "2      계          *자영업자    5480.4    5607.2    5654.6    5683.3    5705.9   \n",
       "3      계  -고용원이 있는 자영업자    1604.6    1592.4    1567.1    1584.2    1536.2   \n",
       "4      계  -고용원이 없는 자영업자    3875.8    4014.8    4087.5    4099.1    4169.7   \n",
       "..   ...            ...       ...       ...       ...       ...       ...   \n",
       "175  제주도       -무급가족종사자      24.0      21.8      20.7      21.6      23.0   \n",
       "176  제주도          임금근로자     243.5     244.3     245.2     248.8     245.8   \n",
       "177  제주도         -상용근로자     147.8     150.4     152.1     152.5     149.8   \n",
       "178  제주도         -임시근로자      64.1      68.3      65.4      65.7      65.8   \n",
       "179  제주도         -일용근로자      31.6      25.6      27.7      30.6      30.2   \n",
       "\n",
       "     2019. 07  2019. 08  2019. 09  ...  2019. 11  2019. 12  2020. 01  \\\n",
       "0     27382.8   27358.4   27403.7  ...   27514.7   27153.7   26799.7   \n",
       "1      6821.2    6799.4    6779.2  ...    6667.9    6464.0    6423.3   \n",
       "2      5675.5    5661.8    5631.8  ...    5582.3    5484.7    5461.6   \n",
       "3      1520.2    1534.9    1491.0  ...    1462.3    1436.0    1450.2   \n",
       "4      4155.4    4126.9    4140.8  ...    4120.0    4048.7    4011.3   \n",
       "..        ...       ...       ...  ...       ...       ...       ...   \n",
       "175      23.5      24.0      23.9  ...      23.9      24.3      26.5   \n",
       "176     238.2     246.0     246.4  ...     254.3     255.3     254.4   \n",
       "177     148.8     150.0     152.4  ...     156.0     158.7     160.3   \n",
       "178      64.1      65.7      64.3  ...      66.4      60.5      60.2   \n",
       "179      25.3      30.2      29.7  ...      31.9      36.1      33.9   \n",
       "\n",
       "     2020. 02  2020. 03  2020. 04  2020. 05  2020. 06  2020. 07  2020. 08  \n",
       "0     26837.8   26609.3   26562.1   26930.2   27055.2   27106.0   27084.7  \n",
       "1      6445.3    6553.1    6643.5    6686.0    6644.9    6636.6    6638.8  \n",
       "2      5483.5    5536.9    5582.3    5601.0    5550.9    5547.9    5555.4  \n",
       "3      1459.2    1397.7    1387.9    1383.9    1363.2    1345.0    1362.8  \n",
       "4      4024.3    4139.2    4194.5    4217.1    4187.7    4202.8    4192.6  \n",
       "..        ...       ...       ...       ...       ...       ...       ...  \n",
       "175      23.4      24.8      23.5      27.3      26.4      28.9      29.0  \n",
       "176     249.3     234.0     230.6     229.0     230.1     235.4     238.6  \n",
       "177     160.8     157.8     153.2     154.5     153.7     156.3     159.1  \n",
       "178      57.3      52.3      52.1      51.6      51.8      53.5      54.6  \n",
       "179      31.2      23.9      25.2      23.0      24.6      25.6      24.9  \n",
       "\n",
       "[180 rows x 21 columns]"
      ]
     },
     "execution_count": 6,
     "metadata": {},
     "output_type": "execute_result"
    }
   ],
   "source": [
    "df"
   ]
  },
  {
   "cell_type": "code",
   "execution_count": 7,
   "metadata": {},
   "outputs": [
    {
     "data": {
      "text/plain": [
       "(180, 21)"
      ]
     },
     "execution_count": 7,
     "metadata": {},
     "output_type": "execute_result"
    }
   ],
   "source": [
    "df.shape"
   ]
  },
  {
   "cell_type": "code",
   "execution_count": 8,
   "metadata": {},
   "outputs": [
    {
     "data": {
      "text/plain": [
       "시도별         0\n",
       "종사상지위별      0\n",
       "2019. 02    0\n",
       "2019. 03    0\n",
       "2019. 04    0\n",
       "2019. 05    0\n",
       "2019. 06    0\n",
       "2019. 07    0\n",
       "2019. 08    0\n",
       "2019. 09    0\n",
       "2019. 10    0\n",
       "2019. 11    0\n",
       "2019. 12    0\n",
       "2020. 01    0\n",
       "2020. 02    0\n",
       "2020. 03    0\n",
       "2020. 04    0\n",
       "2020. 05    0\n",
       "2020. 06    0\n",
       "2020. 07    0\n",
       "2020. 08    0\n",
       "dtype: int64"
      ]
     },
     "execution_count": 8,
     "metadata": {},
     "output_type": "execute_result"
    }
   ],
   "source": [
    "df.isnull().sum()"
   ]
  },
  {
   "cell_type": "code",
   "execution_count": 9,
   "metadata": {},
   "outputs": [
    {
     "data": {
      "text/plain": [
       "array(['계', '서울특별시', '부산광역시', '대구광역시', '인천광역시', '광주광역시', '대전광역시', '울산광역시',\n",
       "       '세종특별자치시', '경기도', '강원도', '충청북도', '충청남도', '전라북도', '전라남도', '경상북도',\n",
       "       '경상남도', '제주도'], dtype=object)"
      ]
     },
     "execution_count": 9,
     "metadata": {},
     "output_type": "execute_result"
    }
   ],
   "source": [
    "df['시도별'].unique()"
   ]
  },
  {
   "cell_type": "code",
   "execution_count": 10,
   "metadata": {},
   "outputs": [
    {
     "data": {
      "text/plain": [
       "Index(['시도별', '종사상지위별', '2019. 02', '2019. 03', '2019. 04', '2019. 05',\n",
       "       '2019. 06', '2019. 07', '2019. 08', '2019. 09', '2019. 10', '2019. 11',\n",
       "       '2019. 12', '2020. 01', '2020. 02', '2020. 03', '2020. 04', '2020. 05',\n",
       "       '2020. 06', '2020. 07', '2020. 08'],\n",
       "      dtype='object')"
      ]
     },
     "execution_count": 10,
     "metadata": {},
     "output_type": "execute_result"
    }
   ],
   "source": [
    "df.columns"
   ]
  },
  {
   "cell_type": "code",
   "execution_count": 11,
   "metadata": {},
   "outputs": [
    {
     "data": {
      "text/plain": [
       "array(['계', '비임금근로자', '*자영업자', '-고용원이 있는 자영업자', '-고용원이 없는 자영업자',\n",
       "       '-무급가족종사자', '임금근로자', '-상용근로자', '-임시근로자', '-일용근로자'], dtype=object)"
      ]
     },
     "execution_count": 11,
     "metadata": {},
     "output_type": "execute_result"
    }
   ],
   "source": [
    "df['종사상지위별'].unique()"
   ]
  },
  {
   "cell_type": "code",
   "execution_count": 12,
   "metadata": {},
   "outputs": [],
   "source": [
    "df_selfowner = df[(df['종사상지위별']=='*자영업자') | (df['종사상지위별']=='-고용원이 있는 자영업자') | (df['종사상지위별']=='-고용원이 없는 자영업자')]"
   ]
  },
  {
   "cell_type": "code",
   "execution_count": 27,
   "metadata": {
    "scrolled": true
   },
   "outputs": [
    {
     "data": {
      "text/html": [
       "<div>\n",
       "<style scoped>\n",
       "    .dataframe tbody tr th:only-of-type {\n",
       "        vertical-align: middle;\n",
       "    }\n",
       "\n",
       "    .dataframe tbody tr th {\n",
       "        vertical-align: top;\n",
       "    }\n",
       "\n",
       "    .dataframe thead th {\n",
       "        text-align: right;\n",
       "    }\n",
       "</style>\n",
       "<table border=\"1\" class=\"dataframe\">\n",
       "  <thead>\n",
       "    <tr style=\"text-align: right;\">\n",
       "      <th></th>\n",
       "      <th>시도별</th>\n",
       "      <th>종사상지위별</th>\n",
       "      <th>2019. 02</th>\n",
       "      <th>2019. 03</th>\n",
       "      <th>2019. 04</th>\n",
       "      <th>2019. 05</th>\n",
       "      <th>2019. 06</th>\n",
       "      <th>2019. 07</th>\n",
       "      <th>2019. 08</th>\n",
       "      <th>2019. 09</th>\n",
       "      <th>...</th>\n",
       "      <th>2019. 11</th>\n",
       "      <th>2019. 12</th>\n",
       "      <th>2020. 01</th>\n",
       "      <th>2020. 02</th>\n",
       "      <th>2020. 03</th>\n",
       "      <th>2020. 04</th>\n",
       "      <th>2020. 05</th>\n",
       "      <th>2020. 06</th>\n",
       "      <th>2020. 07</th>\n",
       "      <th>2020. 08</th>\n",
       "    </tr>\n",
       "  </thead>\n",
       "  <tbody>\n",
       "    <tr>\n",
       "      <th>2</th>\n",
       "      <td>계</td>\n",
       "      <td>*자영업자</td>\n",
       "      <td>5480.4</td>\n",
       "      <td>5607.2</td>\n",
       "      <td>5654.6</td>\n",
       "      <td>5683.3</td>\n",
       "      <td>5705.9</td>\n",
       "      <td>5675.5</td>\n",
       "      <td>5661.8</td>\n",
       "      <td>5631.8</td>\n",
       "      <td>...</td>\n",
       "      <td>5582.3</td>\n",
       "      <td>5484.7</td>\n",
       "      <td>5461.6</td>\n",
       "      <td>5483.5</td>\n",
       "      <td>5536.9</td>\n",
       "      <td>5582.3</td>\n",
       "      <td>5601.0</td>\n",
       "      <td>5550.9</td>\n",
       "      <td>5547.9</td>\n",
       "      <td>5555.4</td>\n",
       "    </tr>\n",
       "    <tr>\n",
       "      <th>3</th>\n",
       "      <td>계</td>\n",
       "      <td>-고용원이 있는 자영업자</td>\n",
       "      <td>1604.6</td>\n",
       "      <td>1592.4</td>\n",
       "      <td>1567.1</td>\n",
       "      <td>1584.2</td>\n",
       "      <td>1536.2</td>\n",
       "      <td>1520.2</td>\n",
       "      <td>1534.9</td>\n",
       "      <td>1491.0</td>\n",
       "      <td>...</td>\n",
       "      <td>1462.3</td>\n",
       "      <td>1436.0</td>\n",
       "      <td>1450.2</td>\n",
       "      <td>1459.2</td>\n",
       "      <td>1397.7</td>\n",
       "      <td>1387.9</td>\n",
       "      <td>1383.9</td>\n",
       "      <td>1363.2</td>\n",
       "      <td>1345.0</td>\n",
       "      <td>1362.8</td>\n",
       "    </tr>\n",
       "    <tr>\n",
       "      <th>4</th>\n",
       "      <td>계</td>\n",
       "      <td>-고용원이 없는 자영업자</td>\n",
       "      <td>3875.8</td>\n",
       "      <td>4014.8</td>\n",
       "      <td>4087.5</td>\n",
       "      <td>4099.1</td>\n",
       "      <td>4169.7</td>\n",
       "      <td>4155.4</td>\n",
       "      <td>4126.9</td>\n",
       "      <td>4140.8</td>\n",
       "      <td>...</td>\n",
       "      <td>4120.0</td>\n",
       "      <td>4048.7</td>\n",
       "      <td>4011.3</td>\n",
       "      <td>4024.3</td>\n",
       "      <td>4139.2</td>\n",
       "      <td>4194.5</td>\n",
       "      <td>4217.1</td>\n",
       "      <td>4187.7</td>\n",
       "      <td>4202.8</td>\n",
       "      <td>4192.6</td>\n",
       "    </tr>\n",
       "    <tr>\n",
       "      <th>12</th>\n",
       "      <td>서울특별시</td>\n",
       "      <td>*자영업자</td>\n",
       "      <td>825.0</td>\n",
       "      <td>838.7</td>\n",
       "      <td>836.0</td>\n",
       "      <td>828.1</td>\n",
       "      <td>820.7</td>\n",
       "      <td>812.7</td>\n",
       "      <td>804.7</td>\n",
       "      <td>806.0</td>\n",
       "      <td>...</td>\n",
       "      <td>804.6</td>\n",
       "      <td>792.6</td>\n",
       "      <td>805.5</td>\n",
       "      <td>824.5</td>\n",
       "      <td>801.7</td>\n",
       "      <td>796.9</td>\n",
       "      <td>790.5</td>\n",
       "      <td>774.7</td>\n",
       "      <td>797.1</td>\n",
       "      <td>806.3</td>\n",
       "    </tr>\n",
       "    <tr>\n",
       "      <th>13</th>\n",
       "      <td>서울특별시</td>\n",
       "      <td>-고용원이 있는 자영업자</td>\n",
       "      <td>301.4</td>\n",
       "      <td>303.6</td>\n",
       "      <td>290.8</td>\n",
       "      <td>285.4</td>\n",
       "      <td>266.5</td>\n",
       "      <td>274.7</td>\n",
       "      <td>273.5</td>\n",
       "      <td>259.9</td>\n",
       "      <td>...</td>\n",
       "      <td>248.3</td>\n",
       "      <td>243.6</td>\n",
       "      <td>243.4</td>\n",
       "      <td>245.5</td>\n",
       "      <td>225.5</td>\n",
       "      <td>231.9</td>\n",
       "      <td>232.3</td>\n",
       "      <td>229.9</td>\n",
       "      <td>232.0</td>\n",
       "      <td>245.1</td>\n",
       "    </tr>\n",
       "  </tbody>\n",
       "</table>\n",
       "<p>5 rows × 21 columns</p>\n",
       "</div>"
      ],
      "text/plain": [
       "      시도별         종사상지위별  2019. 02  2019. 03  2019. 04  2019. 05  2019. 06  \\\n",
       "2       계          *자영업자    5480.4    5607.2    5654.6    5683.3    5705.9   \n",
       "3       계  -고용원이 있는 자영업자    1604.6    1592.4    1567.1    1584.2    1536.2   \n",
       "4       계  -고용원이 없는 자영업자    3875.8    4014.8    4087.5    4099.1    4169.7   \n",
       "12  서울특별시          *자영업자     825.0     838.7     836.0     828.1     820.7   \n",
       "13  서울특별시  -고용원이 있는 자영업자     301.4     303.6     290.8     285.4     266.5   \n",
       "\n",
       "    2019. 07  2019. 08  2019. 09  ...  2019. 11  2019. 12  2020. 01  2020. 02  \\\n",
       "2     5675.5    5661.8    5631.8  ...    5582.3    5484.7    5461.6    5483.5   \n",
       "3     1520.2    1534.9    1491.0  ...    1462.3    1436.0    1450.2    1459.2   \n",
       "4     4155.4    4126.9    4140.8  ...    4120.0    4048.7    4011.3    4024.3   \n",
       "12     812.7     804.7     806.0  ...     804.6     792.6     805.5     824.5   \n",
       "13     274.7     273.5     259.9  ...     248.3     243.6     243.4     245.5   \n",
       "\n",
       "    2020. 03  2020. 04  2020. 05  2020. 06  2020. 07  2020. 08  \n",
       "2     5536.9    5582.3    5601.0    5550.9    5547.9    5555.4  \n",
       "3     1397.7    1387.9    1383.9    1363.2    1345.0    1362.8  \n",
       "4     4139.2    4194.5    4217.1    4187.7    4202.8    4192.6  \n",
       "12     801.7     796.9     790.5     774.7     797.1     806.3  \n",
       "13     225.5     231.9     232.3     229.9     232.0     245.1  \n",
       "\n",
       "[5 rows x 21 columns]"
      ]
     },
     "execution_count": 27,
     "metadata": {},
     "output_type": "execute_result"
    }
   ],
   "source": [
    "df_selfowner.head()"
   ]
  },
  {
   "cell_type": "code",
   "execution_count": 28,
   "metadata": {},
   "outputs": [
    {
     "data": {
      "text/plain": [
       "Index(['시도별', '종사상지위별', '2019. 02', '2019. 03', '2019. 04', '2019. 05',\n",
       "       '2019. 06', '2019. 07', '2019. 08', '2019. 09', '2019. 10', '2019. 11',\n",
       "       '2019. 12', '2020. 01', '2020. 02', '2020. 03', '2020. 04', '2020. 05',\n",
       "       '2020. 06', '2020. 07', '2020. 08'],\n",
       "      dtype='object')"
      ]
     },
     "execution_count": 28,
     "metadata": {},
     "output_type": "execute_result"
    }
   ],
   "source": [
    "df_selfowner.columns"
   ]
  },
  {
   "cell_type": "code",
   "execution_count": 29,
   "metadata": {},
   "outputs": [],
   "source": [
    "df_selfowner_m = pd.melt(df_selfowner, id_vars=['시도별', '종사상지위별'], value_vars=['2019. 02', '2019. 03', '2019. 04', '2019. 05',\n",
    "       '2019. 06', '2019. 07', '2019. 08', '2019. 09', '2019. 10', '2019. 11',\n",
    "       '2019. 12', '2020. 01', '2020. 02', '2020. 03', '2020. 04', '2020. 05',\n",
    "       '2020. 06', '2020. 07', '2020. 08'])"
   ]
  },
  {
   "cell_type": "code",
   "execution_count": 30,
   "metadata": {
    "scrolled": false
   },
   "outputs": [
    {
     "data": {
      "text/html": [
       "<div>\n",
       "<style scoped>\n",
       "    .dataframe tbody tr th:only-of-type {\n",
       "        vertical-align: middle;\n",
       "    }\n",
       "\n",
       "    .dataframe tbody tr th {\n",
       "        vertical-align: top;\n",
       "    }\n",
       "\n",
       "    .dataframe thead th {\n",
       "        text-align: right;\n",
       "    }\n",
       "</style>\n",
       "<table border=\"1\" class=\"dataframe\">\n",
       "  <thead>\n",
       "    <tr style=\"text-align: right;\">\n",
       "      <th></th>\n",
       "      <th>시도별</th>\n",
       "      <th>종사상지위별</th>\n",
       "      <th>variable</th>\n",
       "      <th>value</th>\n",
       "    </tr>\n",
       "  </thead>\n",
       "  <tbody>\n",
       "    <tr>\n",
       "      <th>0</th>\n",
       "      <td>계</td>\n",
       "      <td>*자영업자</td>\n",
       "      <td>2019. 02</td>\n",
       "      <td>5480.4</td>\n",
       "    </tr>\n",
       "    <tr>\n",
       "      <th>1</th>\n",
       "      <td>계</td>\n",
       "      <td>-고용원이 있는 자영업자</td>\n",
       "      <td>2019. 02</td>\n",
       "      <td>1604.6</td>\n",
       "    </tr>\n",
       "    <tr>\n",
       "      <th>2</th>\n",
       "      <td>계</td>\n",
       "      <td>-고용원이 없는 자영업자</td>\n",
       "      <td>2019. 02</td>\n",
       "      <td>3875.8</td>\n",
       "    </tr>\n",
       "    <tr>\n",
       "      <th>3</th>\n",
       "      <td>서울특별시</td>\n",
       "      <td>*자영업자</td>\n",
       "      <td>2019. 02</td>\n",
       "      <td>825.0</td>\n",
       "    </tr>\n",
       "    <tr>\n",
       "      <th>4</th>\n",
       "      <td>서울특별시</td>\n",
       "      <td>-고용원이 있는 자영업자</td>\n",
       "      <td>2019. 02</td>\n",
       "      <td>301.4</td>\n",
       "    </tr>\n",
       "    <tr>\n",
       "      <th>...</th>\n",
       "      <td>...</td>\n",
       "      <td>...</td>\n",
       "      <td>...</td>\n",
       "      <td>...</td>\n",
       "    </tr>\n",
       "    <tr>\n",
       "      <th>1021</th>\n",
       "      <td>경상남도</td>\n",
       "      <td>-고용원이 있는 자영업자</td>\n",
       "      <td>2020. 08</td>\n",
       "      <td>83.0</td>\n",
       "    </tr>\n",
       "    <tr>\n",
       "      <th>1022</th>\n",
       "      <td>경상남도</td>\n",
       "      <td>-고용원이 없는 자영업자</td>\n",
       "      <td>2020. 08</td>\n",
       "      <td>345.6</td>\n",
       "    </tr>\n",
       "    <tr>\n",
       "      <th>1023</th>\n",
       "      <td>제주도</td>\n",
       "      <td>*자영업자</td>\n",
       "      <td>2020. 08</td>\n",
       "      <td>111.1</td>\n",
       "    </tr>\n",
       "    <tr>\n",
       "      <th>1024</th>\n",
       "      <td>제주도</td>\n",
       "      <td>-고용원이 있는 자영업자</td>\n",
       "      <td>2020. 08</td>\n",
       "      <td>23.7</td>\n",
       "    </tr>\n",
       "    <tr>\n",
       "      <th>1025</th>\n",
       "      <td>제주도</td>\n",
       "      <td>-고용원이 없는 자영업자</td>\n",
       "      <td>2020. 08</td>\n",
       "      <td>87.4</td>\n",
       "    </tr>\n",
       "  </tbody>\n",
       "</table>\n",
       "<p>1026 rows × 4 columns</p>\n",
       "</div>"
      ],
      "text/plain": [
       "        시도별         종사상지위별  variable   value\n",
       "0         계          *자영업자  2019. 02  5480.4\n",
       "1         계  -고용원이 있는 자영업자  2019. 02  1604.6\n",
       "2         계  -고용원이 없는 자영업자  2019. 02  3875.8\n",
       "3     서울특별시          *자영업자  2019. 02   825.0\n",
       "4     서울특별시  -고용원이 있는 자영업자  2019. 02   301.4\n",
       "...     ...            ...       ...     ...\n",
       "1021   경상남도  -고용원이 있는 자영업자  2020. 08    83.0\n",
       "1022   경상남도  -고용원이 없는 자영업자  2020. 08   345.6\n",
       "1023    제주도          *자영업자  2020. 08   111.1\n",
       "1024    제주도  -고용원이 있는 자영업자  2020. 08    23.7\n",
       "1025    제주도  -고용원이 없는 자영업자  2020. 08    87.4\n",
       "\n",
       "[1026 rows x 4 columns]"
      ]
     },
     "execution_count": 30,
     "metadata": {},
     "output_type": "execute_result"
    }
   ],
   "source": [
    "df_selfowner_m"
   ]
  },
  {
   "cell_type": "code",
   "execution_count": 39,
   "metadata": {},
   "outputs": [
    {
     "name": "stdout",
     "output_type": "stream",
     "text": [
      "<class 'pandas.core.frame.DataFrame'>\n",
      "RangeIndex: 1026 entries, 0 to 1025\n",
      "Data columns (total 4 columns):\n",
      " #   Column    Non-Null Count  Dtype  \n",
      "---  ------    --------------  -----  \n",
      " 0   시도별       1026 non-null   object \n",
      " 1   종사상지위별    1026 non-null   object \n",
      " 2   variable  1026 non-null   object \n",
      " 3   value     1026 non-null   float64\n",
      "dtypes: float64(1), object(3)\n",
      "memory usage: 32.2+ KB\n"
     ]
    }
   ],
   "source": [
    "df_selfowner_m.info()"
   ]
  },
  {
   "cell_type": "code",
   "execution_count": 43,
   "metadata": {},
   "outputs": [],
   "source": [
    "df_selfowner_m['variable'] = pd.to_datetime(df_selfowner_m['variable'])"
   ]
  },
  {
   "cell_type": "code",
   "execution_count": 45,
   "metadata": {},
   "outputs": [
    {
     "name": "stdout",
     "output_type": "stream",
     "text": [
      "<class 'pandas.core.frame.DataFrame'>\n",
      "RangeIndex: 1026 entries, 0 to 1025\n",
      "Data columns (total 4 columns):\n",
      " #   Column    Non-Null Count  Dtype         \n",
      "---  ------    --------------  -----         \n",
      " 0   시도별       1026 non-null   object        \n",
      " 1   종사상지위별    1026 non-null   object        \n",
      " 2   variable  1026 non-null   datetime64[ns]\n",
      " 3   value     1026 non-null   float64       \n",
      "dtypes: datetime64[ns](1), float64(1), object(2)\n",
      "memory usage: 32.2+ KB\n"
     ]
    },
    {
     "data": {
      "text/html": [
       "<div>\n",
       "<style scoped>\n",
       "    .dataframe tbody tr th:only-of-type {\n",
       "        vertical-align: middle;\n",
       "    }\n",
       "\n",
       "    .dataframe tbody tr th {\n",
       "        vertical-align: top;\n",
       "    }\n",
       "\n",
       "    .dataframe thead th {\n",
       "        text-align: right;\n",
       "    }\n",
       "</style>\n",
       "<table border=\"1\" class=\"dataframe\">\n",
       "  <thead>\n",
       "    <tr style=\"text-align: right;\">\n",
       "      <th></th>\n",
       "      <th>시도별</th>\n",
       "      <th>종사상지위별</th>\n",
       "      <th>variable</th>\n",
       "      <th>value</th>\n",
       "    </tr>\n",
       "  </thead>\n",
       "  <tbody>\n",
       "    <tr>\n",
       "      <th>0</th>\n",
       "      <td>계</td>\n",
       "      <td>*자영업자</td>\n",
       "      <td>2019-02-01</td>\n",
       "      <td>5480.4</td>\n",
       "    </tr>\n",
       "    <tr>\n",
       "      <th>1</th>\n",
       "      <td>계</td>\n",
       "      <td>-고용원이 있는 자영업자</td>\n",
       "      <td>2019-02-01</td>\n",
       "      <td>1604.6</td>\n",
       "    </tr>\n",
       "    <tr>\n",
       "      <th>2</th>\n",
       "      <td>계</td>\n",
       "      <td>-고용원이 없는 자영업자</td>\n",
       "      <td>2019-02-01</td>\n",
       "      <td>3875.8</td>\n",
       "    </tr>\n",
       "    <tr>\n",
       "      <th>3</th>\n",
       "      <td>서울특별시</td>\n",
       "      <td>*자영업자</td>\n",
       "      <td>2019-02-01</td>\n",
       "      <td>825.0</td>\n",
       "    </tr>\n",
       "    <tr>\n",
       "      <th>4</th>\n",
       "      <td>서울특별시</td>\n",
       "      <td>-고용원이 있는 자영업자</td>\n",
       "      <td>2019-02-01</td>\n",
       "      <td>301.4</td>\n",
       "    </tr>\n",
       "    <tr>\n",
       "      <th>...</th>\n",
       "      <td>...</td>\n",
       "      <td>...</td>\n",
       "      <td>...</td>\n",
       "      <td>...</td>\n",
       "    </tr>\n",
       "    <tr>\n",
       "      <th>1021</th>\n",
       "      <td>경상남도</td>\n",
       "      <td>-고용원이 있는 자영업자</td>\n",
       "      <td>2020-08-01</td>\n",
       "      <td>83.0</td>\n",
       "    </tr>\n",
       "    <tr>\n",
       "      <th>1022</th>\n",
       "      <td>경상남도</td>\n",
       "      <td>-고용원이 없는 자영업자</td>\n",
       "      <td>2020-08-01</td>\n",
       "      <td>345.6</td>\n",
       "    </tr>\n",
       "    <tr>\n",
       "      <th>1023</th>\n",
       "      <td>제주도</td>\n",
       "      <td>*자영업자</td>\n",
       "      <td>2020-08-01</td>\n",
       "      <td>111.1</td>\n",
       "    </tr>\n",
       "    <tr>\n",
       "      <th>1024</th>\n",
       "      <td>제주도</td>\n",
       "      <td>-고용원이 있는 자영업자</td>\n",
       "      <td>2020-08-01</td>\n",
       "      <td>23.7</td>\n",
       "    </tr>\n",
       "    <tr>\n",
       "      <th>1025</th>\n",
       "      <td>제주도</td>\n",
       "      <td>-고용원이 없는 자영업자</td>\n",
       "      <td>2020-08-01</td>\n",
       "      <td>87.4</td>\n",
       "    </tr>\n",
       "  </tbody>\n",
       "</table>\n",
       "<p>1026 rows × 4 columns</p>\n",
       "</div>"
      ],
      "text/plain": [
       "        시도별         종사상지위별   variable   value\n",
       "0         계          *자영업자 2019-02-01  5480.4\n",
       "1         계  -고용원이 있는 자영업자 2019-02-01  1604.6\n",
       "2         계  -고용원이 없는 자영업자 2019-02-01  3875.8\n",
       "3     서울특별시          *자영업자 2019-02-01   825.0\n",
       "4     서울특별시  -고용원이 있는 자영업자 2019-02-01   301.4\n",
       "...     ...            ...        ...     ...\n",
       "1021   경상남도  -고용원이 있는 자영업자 2020-08-01    83.0\n",
       "1022   경상남도  -고용원이 없는 자영업자 2020-08-01   345.6\n",
       "1023    제주도          *자영업자 2020-08-01   111.1\n",
       "1024    제주도  -고용원이 있는 자영업자 2020-08-01    23.7\n",
       "1025    제주도  -고용원이 없는 자영업자 2020-08-01    87.4\n",
       "\n",
       "[1026 rows x 4 columns]"
      ]
     },
     "execution_count": 45,
     "metadata": {},
     "output_type": "execute_result"
    }
   ],
   "source": [
    "df_selfowner_m.info()\n",
    "df_selfowner_m"
   ]
  },
  {
   "cell_type": "code",
   "execution_count": 48,
   "metadata": {},
   "outputs": [],
   "source": [
    "df_selfowner_m['연도'] =pd.DatetimeIndex(df_selfowner_m['variable']).year"
   ]
  },
  {
   "cell_type": "code",
   "execution_count": 52,
   "metadata": {},
   "outputs": [
    {
     "data": {
      "text/html": [
       "<div>\n",
       "<style scoped>\n",
       "    .dataframe tbody tr th:only-of-type {\n",
       "        vertical-align: middle;\n",
       "    }\n",
       "\n",
       "    .dataframe tbody tr th {\n",
       "        vertical-align: top;\n",
       "    }\n",
       "\n",
       "    .dataframe thead th {\n",
       "        text-align: right;\n",
       "    }\n",
       "</style>\n",
       "<table border=\"1\" class=\"dataframe\">\n",
       "  <thead>\n",
       "    <tr style=\"text-align: right;\">\n",
       "      <th></th>\n",
       "      <th>시도별</th>\n",
       "      <th>종사상지위별</th>\n",
       "      <th>variable</th>\n",
       "      <th>value</th>\n",
       "      <th>연도</th>\n",
       "    </tr>\n",
       "  </thead>\n",
       "  <tbody>\n",
       "    <tr>\n",
       "      <th>1021</th>\n",
       "      <td>경상남도</td>\n",
       "      <td>-고용원이 있는 자영업자</td>\n",
       "      <td>2020-08-01</td>\n",
       "      <td>83.0</td>\n",
       "      <td>2020</td>\n",
       "    </tr>\n",
       "    <tr>\n",
       "      <th>1022</th>\n",
       "      <td>경상남도</td>\n",
       "      <td>-고용원이 없는 자영업자</td>\n",
       "      <td>2020-08-01</td>\n",
       "      <td>345.6</td>\n",
       "      <td>2020</td>\n",
       "    </tr>\n",
       "    <tr>\n",
       "      <th>1023</th>\n",
       "      <td>제주도</td>\n",
       "      <td>*자영업자</td>\n",
       "      <td>2020-08-01</td>\n",
       "      <td>111.1</td>\n",
       "      <td>2020</td>\n",
       "    </tr>\n",
       "    <tr>\n",
       "      <th>1024</th>\n",
       "      <td>제주도</td>\n",
       "      <td>-고용원이 있는 자영업자</td>\n",
       "      <td>2020-08-01</td>\n",
       "      <td>23.7</td>\n",
       "      <td>2020</td>\n",
       "    </tr>\n",
       "    <tr>\n",
       "      <th>1025</th>\n",
       "      <td>제주도</td>\n",
       "      <td>-고용원이 없는 자영업자</td>\n",
       "      <td>2020-08-01</td>\n",
       "      <td>87.4</td>\n",
       "      <td>2020</td>\n",
       "    </tr>\n",
       "  </tbody>\n",
       "</table>\n",
       "</div>"
      ],
      "text/plain": [
       "       시도별         종사상지위별   variable  value    연도\n",
       "1021  경상남도  -고용원이 있는 자영업자 2020-08-01   83.0  2020\n",
       "1022  경상남도  -고용원이 없는 자영업자 2020-08-01  345.6  2020\n",
       "1023   제주도          *자영업자 2020-08-01  111.1  2020\n",
       "1024   제주도  -고용원이 있는 자영업자 2020-08-01   23.7  2020\n",
       "1025   제주도  -고용원이 없는 자영업자 2020-08-01   87.4  2020"
      ]
     },
     "execution_count": 52,
     "metadata": {},
     "output_type": "execute_result"
    }
   ],
   "source": [
    "df_selfowner_m.head()\n",
    "df_selfowner_m.tail()"
   ]
  },
  {
   "cell_type": "code",
   "execution_count": 55,
   "metadata": {},
   "outputs": [],
   "source": [
    "df_selfowner_m['월']=df_selfowner_m['variable'].apply(lambda x: x.strftime('%m'))"
   ]
  },
  {
   "cell_type": "code",
   "execution_count": 56,
   "metadata": {
    "scrolled": true
   },
   "outputs": [
    {
     "data": {
      "text/html": [
       "<div>\n",
       "<style scoped>\n",
       "    .dataframe tbody tr th:only-of-type {\n",
       "        vertical-align: middle;\n",
       "    }\n",
       "\n",
       "    .dataframe tbody tr th {\n",
       "        vertical-align: top;\n",
       "    }\n",
       "\n",
       "    .dataframe thead th {\n",
       "        text-align: right;\n",
       "    }\n",
       "</style>\n",
       "<table border=\"1\" class=\"dataframe\">\n",
       "  <thead>\n",
       "    <tr style=\"text-align: right;\">\n",
       "      <th></th>\n",
       "      <th>시도별</th>\n",
       "      <th>종사상지위별</th>\n",
       "      <th>variable</th>\n",
       "      <th>value</th>\n",
       "      <th>연도</th>\n",
       "      <th>월</th>\n",
       "    </tr>\n",
       "  </thead>\n",
       "  <tbody>\n",
       "    <tr>\n",
       "      <th>0</th>\n",
       "      <td>계</td>\n",
       "      <td>*자영업자</td>\n",
       "      <td>2019-02-01</td>\n",
       "      <td>5480.4</td>\n",
       "      <td>2019</td>\n",
       "      <td>02</td>\n",
       "    </tr>\n",
       "    <tr>\n",
       "      <th>1</th>\n",
       "      <td>계</td>\n",
       "      <td>-고용원이 있는 자영업자</td>\n",
       "      <td>2019-02-01</td>\n",
       "      <td>1604.6</td>\n",
       "      <td>2019</td>\n",
       "      <td>02</td>\n",
       "    </tr>\n",
       "    <tr>\n",
       "      <th>2</th>\n",
       "      <td>계</td>\n",
       "      <td>-고용원이 없는 자영업자</td>\n",
       "      <td>2019-02-01</td>\n",
       "      <td>3875.8</td>\n",
       "      <td>2019</td>\n",
       "      <td>02</td>\n",
       "    </tr>\n",
       "    <tr>\n",
       "      <th>3</th>\n",
       "      <td>서울특별시</td>\n",
       "      <td>*자영업자</td>\n",
       "      <td>2019-02-01</td>\n",
       "      <td>825.0</td>\n",
       "      <td>2019</td>\n",
       "      <td>02</td>\n",
       "    </tr>\n",
       "    <tr>\n",
       "      <th>4</th>\n",
       "      <td>서울특별시</td>\n",
       "      <td>-고용원이 있는 자영업자</td>\n",
       "      <td>2019-02-01</td>\n",
       "      <td>301.4</td>\n",
       "      <td>2019</td>\n",
       "      <td>02</td>\n",
       "    </tr>\n",
       "  </tbody>\n",
       "</table>\n",
       "</div>"
      ],
      "text/plain": [
       "     시도별         종사상지위별   variable   value    연도   월\n",
       "0      계          *자영업자 2019-02-01  5480.4  2019  02\n",
       "1      계  -고용원이 있는 자영업자 2019-02-01  1604.6  2019  02\n",
       "2      계  -고용원이 없는 자영업자 2019-02-01  3875.8  2019  02\n",
       "3  서울특별시          *자영업자 2019-02-01   825.0  2019  02\n",
       "4  서울특별시  -고용원이 있는 자영업자 2019-02-01   301.4  2019  02"
      ]
     },
     "execution_count": 56,
     "metadata": {},
     "output_type": "execute_result"
    }
   ],
   "source": [
    "df_selfowner_m.head()"
   ]
  },
  {
   "cell_type": "code",
   "execution_count": 57,
   "metadata": {},
   "outputs": [
    {
     "data": {
      "text/html": [
       "<div>\n",
       "<style scoped>\n",
       "    .dataframe tbody tr th:only-of-type {\n",
       "        vertical-align: middle;\n",
       "    }\n",
       "\n",
       "    .dataframe tbody tr th {\n",
       "        vertical-align: top;\n",
       "    }\n",
       "\n",
       "    .dataframe thead th {\n",
       "        text-align: right;\n",
       "    }\n",
       "</style>\n",
       "<table border=\"1\" class=\"dataframe\">\n",
       "  <thead>\n",
       "    <tr style=\"text-align: right;\">\n",
       "      <th></th>\n",
       "      <th>시도별</th>\n",
       "      <th>종사상지위별</th>\n",
       "      <th>날짜</th>\n",
       "      <th>인원수</th>\n",
       "      <th>연도</th>\n",
       "      <th>월</th>\n",
       "    </tr>\n",
       "  </thead>\n",
       "  <tbody>\n",
       "    <tr>\n",
       "      <th>0</th>\n",
       "      <td>계</td>\n",
       "      <td>*자영업자</td>\n",
       "      <td>2019-02-01</td>\n",
       "      <td>5480.4</td>\n",
       "      <td>2019</td>\n",
       "      <td>02</td>\n",
       "    </tr>\n",
       "    <tr>\n",
       "      <th>1</th>\n",
       "      <td>계</td>\n",
       "      <td>-고용원이 있는 자영업자</td>\n",
       "      <td>2019-02-01</td>\n",
       "      <td>1604.6</td>\n",
       "      <td>2019</td>\n",
       "      <td>02</td>\n",
       "    </tr>\n",
       "    <tr>\n",
       "      <th>2</th>\n",
       "      <td>계</td>\n",
       "      <td>-고용원이 없는 자영업자</td>\n",
       "      <td>2019-02-01</td>\n",
       "      <td>3875.8</td>\n",
       "      <td>2019</td>\n",
       "      <td>02</td>\n",
       "    </tr>\n",
       "    <tr>\n",
       "      <th>3</th>\n",
       "      <td>서울특별시</td>\n",
       "      <td>*자영업자</td>\n",
       "      <td>2019-02-01</td>\n",
       "      <td>825.0</td>\n",
       "      <td>2019</td>\n",
       "      <td>02</td>\n",
       "    </tr>\n",
       "    <tr>\n",
       "      <th>4</th>\n",
       "      <td>서울특별시</td>\n",
       "      <td>-고용원이 있는 자영업자</td>\n",
       "      <td>2019-02-01</td>\n",
       "      <td>301.4</td>\n",
       "      <td>2019</td>\n",
       "      <td>02</td>\n",
       "    </tr>\n",
       "    <tr>\n",
       "      <th>...</th>\n",
       "      <td>...</td>\n",
       "      <td>...</td>\n",
       "      <td>...</td>\n",
       "      <td>...</td>\n",
       "      <td>...</td>\n",
       "      <td>...</td>\n",
       "    </tr>\n",
       "    <tr>\n",
       "      <th>1021</th>\n",
       "      <td>경상남도</td>\n",
       "      <td>-고용원이 있는 자영업자</td>\n",
       "      <td>2020-08-01</td>\n",
       "      <td>83.0</td>\n",
       "      <td>2020</td>\n",
       "      <td>08</td>\n",
       "    </tr>\n",
       "    <tr>\n",
       "      <th>1022</th>\n",
       "      <td>경상남도</td>\n",
       "      <td>-고용원이 없는 자영업자</td>\n",
       "      <td>2020-08-01</td>\n",
       "      <td>345.6</td>\n",
       "      <td>2020</td>\n",
       "      <td>08</td>\n",
       "    </tr>\n",
       "    <tr>\n",
       "      <th>1023</th>\n",
       "      <td>제주도</td>\n",
       "      <td>*자영업자</td>\n",
       "      <td>2020-08-01</td>\n",
       "      <td>111.1</td>\n",
       "      <td>2020</td>\n",
       "      <td>08</td>\n",
       "    </tr>\n",
       "    <tr>\n",
       "      <th>1024</th>\n",
       "      <td>제주도</td>\n",
       "      <td>-고용원이 있는 자영업자</td>\n",
       "      <td>2020-08-01</td>\n",
       "      <td>23.7</td>\n",
       "      <td>2020</td>\n",
       "      <td>08</td>\n",
       "    </tr>\n",
       "    <tr>\n",
       "      <th>1025</th>\n",
       "      <td>제주도</td>\n",
       "      <td>-고용원이 없는 자영업자</td>\n",
       "      <td>2020-08-01</td>\n",
       "      <td>87.4</td>\n",
       "      <td>2020</td>\n",
       "      <td>08</td>\n",
       "    </tr>\n",
       "  </tbody>\n",
       "</table>\n",
       "<p>1026 rows × 6 columns</p>\n",
       "</div>"
      ],
      "text/plain": [
       "        시도별         종사상지위별         날짜     인원수    연도   월\n",
       "0         계          *자영업자 2019-02-01  5480.4  2019  02\n",
       "1         계  -고용원이 있는 자영업자 2019-02-01  1604.6  2019  02\n",
       "2         계  -고용원이 없는 자영업자 2019-02-01  3875.8  2019  02\n",
       "3     서울특별시          *자영업자 2019-02-01   825.0  2019  02\n",
       "4     서울특별시  -고용원이 있는 자영업자 2019-02-01   301.4  2019  02\n",
       "...     ...            ...        ...     ...   ...  ..\n",
       "1021   경상남도  -고용원이 있는 자영업자 2020-08-01    83.0  2020  08\n",
       "1022   경상남도  -고용원이 없는 자영업자 2020-08-01   345.6  2020  08\n",
       "1023    제주도          *자영업자 2020-08-01   111.1  2020  08\n",
       "1024    제주도  -고용원이 있는 자영업자 2020-08-01    23.7  2020  08\n",
       "1025    제주도  -고용원이 없는 자영업자 2020-08-01    87.4  2020  08\n",
       "\n",
       "[1026 rows x 6 columns]"
      ]
     },
     "execution_count": 57,
     "metadata": {},
     "output_type": "execute_result"
    }
   ],
   "source": [
    "df_selfowner_m.columns = ['시도별', '종사상지위별', '날짜', '인원수', '연도', '월']\n",
    "df_selfowner_m"
   ]
  },
  {
   "cell_type": "code",
   "execution_count": 62,
   "metadata": {},
   "outputs": [],
   "source": [
    "workers = df_selfowner_m[df_selfowner_m['종사상지위별']=='-고용원이 있는 자영업자']"
   ]
  },
  {
   "cell_type": "code",
   "execution_count": 63,
   "metadata": {},
   "outputs": [],
   "source": [
    "no_workers = df_selfowner_m[df_selfowner_m['종사상지위별']=='-고용원이 없는 자영업자']"
   ]
  },
  {
   "cell_type": "code",
   "execution_count": 64,
   "metadata": {},
   "outputs": [],
   "source": [
    "self_owners = df_selfowner_m[df_selfowner_m['종사상지위별']=='*자영업자']"
   ]
  },
  {
   "cell_type": "markdown",
   "metadata": {},
   "source": [
    "# 전체 자영업자 수 비교"
   ]
  },
  {
   "cell_type": "code",
   "execution_count": 70,
   "metadata": {},
   "outputs": [
    {
     "data": {
      "text/html": [
       "<div>\n",
       "<style scoped>\n",
       "    .dataframe tbody tr th:only-of-type {\n",
       "        vertical-align: middle;\n",
       "    }\n",
       "\n",
       "    .dataframe tbody tr th {\n",
       "        vertical-align: top;\n",
       "    }\n",
       "\n",
       "    .dataframe thead th {\n",
       "        text-align: right;\n",
       "    }\n",
       "</style>\n",
       "<table border=\"1\" class=\"dataframe\">\n",
       "  <thead>\n",
       "    <tr style=\"text-align: right;\">\n",
       "      <th></th>\n",
       "      <th>시도별</th>\n",
       "      <th>종사상지위별</th>\n",
       "      <th>날짜</th>\n",
       "      <th>인원수</th>\n",
       "      <th>연도</th>\n",
       "      <th>월</th>\n",
       "    </tr>\n",
       "  </thead>\n",
       "  <tbody>\n",
       "    <tr>\n",
       "      <th>0</th>\n",
       "      <td>계</td>\n",
       "      <td>*자영업자</td>\n",
       "      <td>2019-02-01</td>\n",
       "      <td>5480.4</td>\n",
       "      <td>2019</td>\n",
       "      <td>02</td>\n",
       "    </tr>\n",
       "    <tr>\n",
       "      <th>54</th>\n",
       "      <td>계</td>\n",
       "      <td>*자영업자</td>\n",
       "      <td>2019-03-01</td>\n",
       "      <td>5607.2</td>\n",
       "      <td>2019</td>\n",
       "      <td>03</td>\n",
       "    </tr>\n",
       "    <tr>\n",
       "      <th>108</th>\n",
       "      <td>계</td>\n",
       "      <td>*자영업자</td>\n",
       "      <td>2019-04-01</td>\n",
       "      <td>5654.6</td>\n",
       "      <td>2019</td>\n",
       "      <td>04</td>\n",
       "    </tr>\n",
       "    <tr>\n",
       "      <th>162</th>\n",
       "      <td>계</td>\n",
       "      <td>*자영업자</td>\n",
       "      <td>2019-05-01</td>\n",
       "      <td>5683.3</td>\n",
       "      <td>2019</td>\n",
       "      <td>05</td>\n",
       "    </tr>\n",
       "    <tr>\n",
       "      <th>216</th>\n",
       "      <td>계</td>\n",
       "      <td>*자영업자</td>\n",
       "      <td>2019-06-01</td>\n",
       "      <td>5705.9</td>\n",
       "      <td>2019</td>\n",
       "      <td>06</td>\n",
       "    </tr>\n",
       "    <tr>\n",
       "      <th>270</th>\n",
       "      <td>계</td>\n",
       "      <td>*자영업자</td>\n",
       "      <td>2019-07-01</td>\n",
       "      <td>5675.5</td>\n",
       "      <td>2019</td>\n",
       "      <td>07</td>\n",
       "    </tr>\n",
       "    <tr>\n",
       "      <th>324</th>\n",
       "      <td>계</td>\n",
       "      <td>*자영업자</td>\n",
       "      <td>2019-08-01</td>\n",
       "      <td>5661.8</td>\n",
       "      <td>2019</td>\n",
       "      <td>08</td>\n",
       "    </tr>\n",
       "    <tr>\n",
       "      <th>378</th>\n",
       "      <td>계</td>\n",
       "      <td>*자영업자</td>\n",
       "      <td>2019-09-01</td>\n",
       "      <td>5631.8</td>\n",
       "      <td>2019</td>\n",
       "      <td>09</td>\n",
       "    </tr>\n",
       "    <tr>\n",
       "      <th>432</th>\n",
       "      <td>계</td>\n",
       "      <td>*자영업자</td>\n",
       "      <td>2019-10-01</td>\n",
       "      <td>5627.5</td>\n",
       "      <td>2019</td>\n",
       "      <td>10</td>\n",
       "    </tr>\n",
       "    <tr>\n",
       "      <th>486</th>\n",
       "      <td>계</td>\n",
       "      <td>*자영업자</td>\n",
       "      <td>2019-11-01</td>\n",
       "      <td>5582.3</td>\n",
       "      <td>2019</td>\n",
       "      <td>11</td>\n",
       "    </tr>\n",
       "    <tr>\n",
       "      <th>540</th>\n",
       "      <td>계</td>\n",
       "      <td>*자영업자</td>\n",
       "      <td>2019-12-01</td>\n",
       "      <td>5484.7</td>\n",
       "      <td>2019</td>\n",
       "      <td>12</td>\n",
       "    </tr>\n",
       "  </tbody>\n",
       "</table>\n",
       "</div>"
      ],
      "text/plain": [
       "    시도별 종사상지위별         날짜     인원수    연도   월\n",
       "0     계  *자영업자 2019-02-01  5480.4  2019  02\n",
       "54    계  *자영업자 2019-03-01  5607.2  2019  03\n",
       "108   계  *자영업자 2019-04-01  5654.6  2019  04\n",
       "162   계  *자영업자 2019-05-01  5683.3  2019  05\n",
       "216   계  *자영업자 2019-06-01  5705.9  2019  06\n",
       "270   계  *자영업자 2019-07-01  5675.5  2019  07\n",
       "324   계  *자영업자 2019-08-01  5661.8  2019  08\n",
       "378   계  *자영업자 2019-09-01  5631.8  2019  09\n",
       "432   계  *자영업자 2019-10-01  5627.5  2019  10\n",
       "486   계  *자영업자 2019-11-01  5582.3  2019  11\n",
       "540   계  *자영업자 2019-12-01  5484.7  2019  12"
      ]
     },
     "execution_count": 70,
     "metadata": {},
     "output_type": "execute_result"
    }
   ],
   "source": [
    "self_owners_2019 = self_owners[(self_owners['연도']==2019) & (self_owners['시도별']=='계')]\n",
    "self_owners_2019"
   ]
  },
  {
   "cell_type": "code",
   "execution_count": 77,
   "metadata": {},
   "outputs": [
    {
     "data": {
      "text/html": [
       "<div>\n",
       "<style scoped>\n",
       "    .dataframe tbody tr th:only-of-type {\n",
       "        vertical-align: middle;\n",
       "    }\n",
       "\n",
       "    .dataframe tbody tr th {\n",
       "        vertical-align: top;\n",
       "    }\n",
       "\n",
       "    .dataframe thead th {\n",
       "        text-align: right;\n",
       "    }\n",
       "</style>\n",
       "<table border=\"1\" class=\"dataframe\">\n",
       "  <thead>\n",
       "    <tr style=\"text-align: right;\">\n",
       "      <th></th>\n",
       "      <th>시도별</th>\n",
       "      <th>종사상지위별</th>\n",
       "      <th>날짜</th>\n",
       "      <th>인원수</th>\n",
       "      <th>연도</th>\n",
       "      <th>월</th>\n",
       "    </tr>\n",
       "  </thead>\n",
       "  <tbody>\n",
       "    <tr>\n",
       "      <th>594</th>\n",
       "      <td>계</td>\n",
       "      <td>*자영업자</td>\n",
       "      <td>2020-01-01</td>\n",
       "      <td>5461.6</td>\n",
       "      <td>2020</td>\n",
       "      <td>01</td>\n",
       "    </tr>\n",
       "    <tr>\n",
       "      <th>648</th>\n",
       "      <td>계</td>\n",
       "      <td>*자영업자</td>\n",
       "      <td>2020-02-01</td>\n",
       "      <td>5483.5</td>\n",
       "      <td>2020</td>\n",
       "      <td>02</td>\n",
       "    </tr>\n",
       "    <tr>\n",
       "      <th>702</th>\n",
       "      <td>계</td>\n",
       "      <td>*자영업자</td>\n",
       "      <td>2020-03-01</td>\n",
       "      <td>5536.9</td>\n",
       "      <td>2020</td>\n",
       "      <td>03</td>\n",
       "    </tr>\n",
       "    <tr>\n",
       "      <th>756</th>\n",
       "      <td>계</td>\n",
       "      <td>*자영업자</td>\n",
       "      <td>2020-04-01</td>\n",
       "      <td>5582.3</td>\n",
       "      <td>2020</td>\n",
       "      <td>04</td>\n",
       "    </tr>\n",
       "    <tr>\n",
       "      <th>810</th>\n",
       "      <td>계</td>\n",
       "      <td>*자영업자</td>\n",
       "      <td>2020-05-01</td>\n",
       "      <td>5601.0</td>\n",
       "      <td>2020</td>\n",
       "      <td>05</td>\n",
       "    </tr>\n",
       "    <tr>\n",
       "      <th>864</th>\n",
       "      <td>계</td>\n",
       "      <td>*자영업자</td>\n",
       "      <td>2020-06-01</td>\n",
       "      <td>5550.9</td>\n",
       "      <td>2020</td>\n",
       "      <td>06</td>\n",
       "    </tr>\n",
       "    <tr>\n",
       "      <th>918</th>\n",
       "      <td>계</td>\n",
       "      <td>*자영업자</td>\n",
       "      <td>2020-07-01</td>\n",
       "      <td>5547.9</td>\n",
       "      <td>2020</td>\n",
       "      <td>07</td>\n",
       "    </tr>\n",
       "    <tr>\n",
       "      <th>972</th>\n",
       "      <td>계</td>\n",
       "      <td>*자영업자</td>\n",
       "      <td>2020-08-01</td>\n",
       "      <td>5555.4</td>\n",
       "      <td>2020</td>\n",
       "      <td>08</td>\n",
       "    </tr>\n",
       "  </tbody>\n",
       "</table>\n",
       "</div>"
      ],
      "text/plain": [
       "    시도별 종사상지위별         날짜     인원수    연도   월\n",
       "594   계  *자영업자 2020-01-01  5461.6  2020  01\n",
       "648   계  *자영업자 2020-02-01  5483.5  2020  02\n",
       "702   계  *자영업자 2020-03-01  5536.9  2020  03\n",
       "756   계  *자영업자 2020-04-01  5582.3  2020  04\n",
       "810   계  *자영업자 2020-05-01  5601.0  2020  05\n",
       "864   계  *자영업자 2020-06-01  5550.9  2020  06\n",
       "918   계  *자영업자 2020-07-01  5547.9  2020  07\n",
       "972   계  *자영업자 2020-08-01  5555.4  2020  08"
      ]
     },
     "execution_count": 77,
     "metadata": {},
     "output_type": "execute_result"
    }
   ],
   "source": [
    "self_owners_2020 = self_owners[(self_owners['연도']==2020) & (self_owners['시도별']=='계')]\n",
    "self_owners_2020"
   ]
  },
  {
   "cell_type": "code",
   "execution_count": 95,
   "metadata": {},
   "outputs": [
    {
     "data": {
      "image/png": "[encoded data removed]",
      "text/plain": [
       "<Figure size 432x288 with 1 Axes>"
      ]
     },
     "metadata": {
      "needs_background": "light"
     },
     "output_type": "display_data"
    },
    {
     "data": {
      "image/png": "[encoded data removed]",
      "text/plain": [
       "<Figure size 432x288 with 1 Axes>"
      ]
     },
     "metadata": {
      "needs_background": "light"
     },
     "output_type": "display_data"
    }
   ],
   "source": [
    "self_owners_2019.pivot_table(index='월', values='인원수').plot(kind='line')\n",
    "plt.title('2019년 전국 자영업자 인원수')\n",
    "self_owners_2020.pivot_table(index='월', values='인원수').plot(kind='line')\n",
    "plt.title('2020년 전국 자영업자 인원수')\n",
    "plt.show()"
   ]
  },
  {
   "cell_type": "markdown",
   "metadata": {},
   "source": [
    "# 전국 고용인 있는 자영업자 수 "
   ]
  },
  {
   "cell_type": "code",
   "execution_count": 90,
   "metadata": {},
   "outputs": [],
   "source": [
    "workers_2019 = workers[(workers['연도']==2019) & (workers['시도별']=='계')]\n",
    "workers_2020 = workers[(workers['연도']==2020) & (workers['시도별']=='계')]"
   ]
  },
  {
   "cell_type": "code",
   "execution_count": 97,
   "metadata": {
    "scrolled": false
   },
   "outputs": [
    {
     "data": {
      "image/png": "[encoded data removed]",
      "text/plain": [
       "<Figure size 432x288 with 1 Axes>"
      ]
     },
     "metadata": {
      "needs_background": "light"
     },
     "output_type": "display_data"
    },
    {
     "data": {
      "image/png": "[encoded data removed]",
      "text/plain": [
       "<Figure size 432x288 with 1 Axes>"
      ]
     },
     "metadata": {
      "needs_background": "light"
     },
     "output_type": "display_data"
    }
   ],
   "source": [
    "workers_2019.pivot_table(index='월', values='인원수').plot(kind='line')\n",
    "plt.title('2019년 전국 고용인 있는 자영업자 인원수')\n",
    "workers_2020.pivot_table(index='월', values='인원수').plot(kind='line')\n",
    "plt.title('2020년 전국 고용인 있는 자영업자 인원수')\n",
    "plt.show()"
   ]
  },
  {
   "cell_type": "code",
   "execution_count": 122,
   "metadata": {},
   "outputs": [
    {
     "data": {
      "text/plain": [
       "Text(0.5, 1.0, '2019년 ~ 2020년 8월 전국 고용인 있는 자영업자 인원수')"
      ]
     },
     "execution_count": 122,
     "metadata": {},
     "output_type": "execute_result"
    },
    {
     "data": {
      "image/png": "[encoded data removed]",
      "text/plain": [
       "<Figure size 432x288 with 1 Axes>"
      ]
     },
     "metadata": {
      "needs_background": "light"
     },
     "output_type": "display_data"
    }
   ],
   "source": [
    "workers.pivot_table(index='날짜', values='인원수').plot(kind='line')\n",
    "plt.title('2019년 ~ 2020년 8월 전국 고용인 있는 자영업자 인원수')"
   ]
  },
  {
   "cell_type": "code",
   "execution_count": 123,
   "metadata": {},
   "outputs": [
    {
     "data": {
      "image/png": "[encoded data removed]",
      "text/plain": [
       "<Figure size 432x288 with 1 Axes>"
      ]
     },
     "metadata": {
      "needs_background": "light"
     },
     "output_type": "display_data"
    }
   ],
   "source": [
    "covid_0206 = workers_2020.iloc[1:5]\n",
    "covid_0206.pivot_table(index='날짜', values='인원수').plot(kind='line')\n",
    "plt.title('2020년 2-6월 전국 고용인 있는 자영업자 인원수')\n",
    "plt.show()"
   ]
  },
  {
   "cell_type": "markdown",
   "metadata": {},
   "source": [
    "# 전국 고용인 없는 자영업자 수 "
   ]
  },
  {
   "cell_type": "code",
   "execution_count": 96,
   "metadata": {},
   "outputs": [
    {
     "data": {
      "image/png": "[encoded data removed]",
      "text/plain": [
       "<Figure size 432x288 with 1 Axes>"
      ]
     },
     "metadata": {
      "needs_background": "light"
     },
     "output_type": "display_data"
    },
    {
     "data": {
      "image/png": "[encoded data removed]",
      "text/plain": [
       "<Figure size 432x288 with 1 Axes>"
      ]
     },
     "metadata": {
      "needs_background": "light"
     },
     "output_type": "display_data"
    }
   ],
   "source": [
    "no_workers_2019 = no_workers[(no_workers['연도']==2019) & (no_workers['시도별']=='계')]\n",
    "no_workers_2020 = no_workers[(no_workers['연도']==2020) & (no_workers['시도별']=='계')]\n",
    "\n",
    "no_workers_2019.pivot_table(index='월', values='인원수').plot(kind='line')\n",
    "plt.title('2019년 전국 고용인 없는 자영업자 인원수')\n",
    "no_workers_2020.pivot_table(index='월', values='인원수').plot(kind='line')\n",
    "plt.title('2020년 전국 고용인 없는 자영업자 인원수')\n",
    "plt.show()"
   ]
  },
  {
   "cell_type": "code",
   "execution_count": 102,
   "metadata": {},
   "outputs": [
    {
     "data": {
      "image/png": "[encoded data removed]",
      "text/plain": [
       "<Figure size 432x288 with 1 Axes>"
      ]
     },
     "metadata": {
      "needs_background": "light"
     },
     "output_type": "display_data"
    }
   ],
   "source": [
    "no_workers.pivot_table(index='날짜', values='인원수').plot(kind='line')\n",
    "plt.title('2019년부터 2020년 8월까지 전국 고용인 없는 자영업자 인원수')\n",
    "plt.show()"
   ]
  },
  {
   "cell_type": "markdown",
   "metadata": {},
   "source": [
    "# 서울 자영업자"
   ]
  },
  {
   "cell_type": "code",
   "execution_count": 136,
   "metadata": {},
   "outputs": [],
   "source": [
    "seoul_owners_2019 = self_owners[(self_owners['연도']==2019) & (self_owners['시도별']=='서울특별시')]\n",
    "seoul_owners_2020 = self_owners[(self_owners['연도']==2020) & (self_owners['시도별']=='서울특별시')]"
   ]
  },
  {
   "cell_type": "code",
   "execution_count": 137,
   "metadata": {
    "scrolled": false
   },
   "outputs": [
    {
     "data": {
      "image/png": "[encoded data removed]",
      "text/plain": [
       "<Figure size 432x288 with 1 Axes>"
      ]
     },
     "metadata": {
      "needs_background": "light"
     },
     "output_type": "display_data"
    },
    {
     "data": {
      "image/png": "[encoded data removed]",
      "text/plain": [
       "<Figure size 432x288 with 1 Axes>"
      ]
     },
     "metadata": {
      "needs_background": "light"
     },
     "output_type": "display_data"
    }
   ],
   "source": [
    "seoul_owners_2019.pivot_table(index='월', values='인원수').plot(kind='line')\n",
    "plt.title('2019년 서울 자영업자 인원수')\n",
    "seoul_owners_2020.pivot_table(index='월', values='인원수').plot(kind='line')\n",
    "plt.title('2020년 서울 자영업자 인원수')\n",
    "plt.show()"
   ]
  },
  {
   "cell_type": "code",
   "execution_count": 139,
   "metadata": {},
   "outputs": [
    {
     "data": {
      "image/png": "[encoded data removed]",
      "text/plain": [
       "<Figure size 432x288 with 1 Axes>"
      ]
     },
     "metadata": {
      "needs_background": "light"
     },
     "output_type": "display_data"
    },
    {
     "data": {
      "image/png": "[encoded data removed]",
      "text/plain": [
       "<Figure size 432x288 with 1 Axes>"
      ]
     },
     "metadata": {
      "needs_background": "light"
     },
     "output_type": "display_data"
    }
   ],
   "source": [
    "seoul_no_workers_2019 = no_workers[(no_workers['연도']==2019) & (no_workers['시도별']=='서울특별시')]\n",
    "seoul_no_workers_2020 = no_workers[(no_workers['연도']==2020) & (no_workers['시도별']=='서울특별시')]\n",
    "\n",
    "seoul_no_workers_2019.pivot_table(index='월', values='인원수').plot(kind='line')\n",
    "plt.title('2019년 서울 고용인 없는 자영업자 인원수')\n",
    "seoul_no_workers_2020.pivot_table(index='월', values='인원수').plot(kind='line')\n",
    "plt.title('2020년 서울 고용인 없는 자영업자 인원수')\n",
    "plt.show()"
   ]
  },
  {
   "cell_type": "markdown",
   "metadata": {},
   "source": [
    "# 대구 자영업자"
   ]
  },
  {
   "cell_type": "code",
   "execution_count": 132,
   "metadata": {},
   "outputs": [
    {
     "data": {
      "text/html": [
       "<div>\n",
       "<style scoped>\n",
       "    .dataframe tbody tr th:only-of-type {\n",
       "        vertical-align: middle;\n",
       "    }\n",
       "\n",
       "    .dataframe tbody tr th {\n",
       "        vertical-align: top;\n",
       "    }\n",
       "\n",
       "    .dataframe thead th {\n",
       "        text-align: right;\n",
       "    }\n",
       "</style>\n",
       "<table border=\"1\" class=\"dataframe\">\n",
       "  <thead>\n",
       "    <tr style=\"text-align: right;\">\n",
       "      <th></th>\n",
       "      <th>시도별</th>\n",
       "      <th>종사상지위별</th>\n",
       "      <th>날짜</th>\n",
       "      <th>인원수</th>\n",
       "      <th>연도</th>\n",
       "      <th>월</th>\n",
       "    </tr>\n",
       "  </thead>\n",
       "  <tbody>\n",
       "    <tr>\n",
       "      <th>9</th>\n",
       "      <td>대구광역시</td>\n",
       "      <td>*자영업자</td>\n",
       "      <td>2019-02-01</td>\n",
       "      <td>281.7</td>\n",
       "      <td>2019</td>\n",
       "      <td>02</td>\n",
       "    </tr>\n",
       "    <tr>\n",
       "      <th>63</th>\n",
       "      <td>대구광역시</td>\n",
       "      <td>*자영업자</td>\n",
       "      <td>2019-03-01</td>\n",
       "      <td>283.8</td>\n",
       "      <td>2019</td>\n",
       "      <td>03</td>\n",
       "    </tr>\n",
       "    <tr>\n",
       "      <th>117</th>\n",
       "      <td>대구광역시</td>\n",
       "      <td>*자영업자</td>\n",
       "      <td>2019-04-01</td>\n",
       "      <td>279.5</td>\n",
       "      <td>2019</td>\n",
       "      <td>04</td>\n",
       "    </tr>\n",
       "    <tr>\n",
       "      <th>171</th>\n",
       "      <td>대구광역시</td>\n",
       "      <td>*자영업자</td>\n",
       "      <td>2019-05-01</td>\n",
       "      <td>281.3</td>\n",
       "      <td>2019</td>\n",
       "      <td>05</td>\n",
       "    </tr>\n",
       "    <tr>\n",
       "      <th>225</th>\n",
       "      <td>대구광역시</td>\n",
       "      <td>*자영업자</td>\n",
       "      <td>2019-06-01</td>\n",
       "      <td>285.5</td>\n",
       "      <td>2019</td>\n",
       "      <td>06</td>\n",
       "    </tr>\n",
       "    <tr>\n",
       "      <th>279</th>\n",
       "      <td>대구광역시</td>\n",
       "      <td>*자영업자</td>\n",
       "      <td>2019-07-01</td>\n",
       "      <td>282.6</td>\n",
       "      <td>2019</td>\n",
       "      <td>07</td>\n",
       "    </tr>\n",
       "    <tr>\n",
       "      <th>333</th>\n",
       "      <td>대구광역시</td>\n",
       "      <td>*자영업자</td>\n",
       "      <td>2019-08-01</td>\n",
       "      <td>279.8</td>\n",
       "      <td>2019</td>\n",
       "      <td>08</td>\n",
       "    </tr>\n",
       "    <tr>\n",
       "      <th>387</th>\n",
       "      <td>대구광역시</td>\n",
       "      <td>*자영업자</td>\n",
       "      <td>2019-09-01</td>\n",
       "      <td>280.4</td>\n",
       "      <td>2019</td>\n",
       "      <td>09</td>\n",
       "    </tr>\n",
       "    <tr>\n",
       "      <th>441</th>\n",
       "      <td>대구광역시</td>\n",
       "      <td>*자영업자</td>\n",
       "      <td>2019-10-01</td>\n",
       "      <td>278.0</td>\n",
       "      <td>2019</td>\n",
       "      <td>10</td>\n",
       "    </tr>\n",
       "    <tr>\n",
       "      <th>495</th>\n",
       "      <td>대구광역시</td>\n",
       "      <td>*자영업자</td>\n",
       "      <td>2019-11-01</td>\n",
       "      <td>281.0</td>\n",
       "      <td>2019</td>\n",
       "      <td>11</td>\n",
       "    </tr>\n",
       "    <tr>\n",
       "      <th>549</th>\n",
       "      <td>대구광역시</td>\n",
       "      <td>*자영업자</td>\n",
       "      <td>2019-12-01</td>\n",
       "      <td>284.2</td>\n",
       "      <td>2019</td>\n",
       "      <td>12</td>\n",
       "    </tr>\n",
       "  </tbody>\n",
       "</table>\n",
       "</div>"
      ],
      "text/plain": [
       "       시도별 종사상지위별         날짜    인원수    연도   월\n",
       "9    대구광역시  *자영업자 2019-02-01  281.7  2019  02\n",
       "63   대구광역시  *자영업자 2019-03-01  283.8  2019  03\n",
       "117  대구광역시  *자영업자 2019-04-01  279.5  2019  04\n",
       "171  대구광역시  *자영업자 2019-05-01  281.3  2019  05\n",
       "225  대구광역시  *자영업자 2019-06-01  285.5  2019  06\n",
       "279  대구광역시  *자영업자 2019-07-01  282.6  2019  07\n",
       "333  대구광역시  *자영업자 2019-08-01  279.8  2019  08\n",
       "387  대구광역시  *자영업자 2019-09-01  280.4  2019  09\n",
       "441  대구광역시  *자영업자 2019-10-01  278.0  2019  10\n",
       "495  대구광역시  *자영업자 2019-11-01  281.0  2019  11\n",
       "549  대구광역시  *자영업자 2019-12-01  284.2  2019  12"
      ]
     },
     "execution_count": 132,
     "metadata": {},
     "output_type": "execute_result"
    }
   ],
   "source": [
    "daegu_owners_2019 = self_owners[(self_owners['연도']==2019) & (self_owners['시도별']=='대구광역시')]"
   ]
  },
  {
   "cell_type": "code",
   "execution_count": 133,
   "metadata": {},
   "outputs": [
    {
     "data": {
      "text/html": [
       "<div>\n",
       "<style scoped>\n",
       "    .dataframe tbody tr th:only-of-type {\n",
       "        vertical-align: middle;\n",
       "    }\n",
       "\n",
       "    .dataframe tbody tr th {\n",
       "        vertical-align: top;\n",
       "    }\n",
       "\n",
       "    .dataframe thead th {\n",
       "        text-align: right;\n",
       "    }\n",
       "</style>\n",
       "<table border=\"1\" class=\"dataframe\">\n",
       "  <thead>\n",
       "    <tr style=\"text-align: right;\">\n",
       "      <th></th>\n",
       "      <th>시도별</th>\n",
       "      <th>종사상지위별</th>\n",
       "      <th>날짜</th>\n",
       "      <th>인원수</th>\n",
       "      <th>연도</th>\n",
       "      <th>월</th>\n",
       "    </tr>\n",
       "  </thead>\n",
       "  <tbody>\n",
       "    <tr>\n",
       "      <th>603</th>\n",
       "      <td>대구광역시</td>\n",
       "      <td>*자영업자</td>\n",
       "      <td>2020-01-01</td>\n",
       "      <td>283.1</td>\n",
       "      <td>2020</td>\n",
       "      <td>01</td>\n",
       "    </tr>\n",
       "    <tr>\n",
       "      <th>657</th>\n",
       "      <td>대구광역시</td>\n",
       "      <td>*자영업자</td>\n",
       "      <td>2020-02-01</td>\n",
       "      <td>288.2</td>\n",
       "      <td>2020</td>\n",
       "      <td>02</td>\n",
       "    </tr>\n",
       "    <tr>\n",
       "      <th>711</th>\n",
       "      <td>대구광역시</td>\n",
       "      <td>*자영업자</td>\n",
       "      <td>2020-03-01</td>\n",
       "      <td>279.5</td>\n",
       "      <td>2020</td>\n",
       "      <td>03</td>\n",
       "    </tr>\n",
       "    <tr>\n",
       "      <th>765</th>\n",
       "      <td>대구광역시</td>\n",
       "      <td>*자영업자</td>\n",
       "      <td>2020-04-01</td>\n",
       "      <td>278.0</td>\n",
       "      <td>2020</td>\n",
       "      <td>04</td>\n",
       "    </tr>\n",
       "    <tr>\n",
       "      <th>819</th>\n",
       "      <td>대구광역시</td>\n",
       "      <td>*자영업자</td>\n",
       "      <td>2020-05-01</td>\n",
       "      <td>274.1</td>\n",
       "      <td>2020</td>\n",
       "      <td>05</td>\n",
       "    </tr>\n",
       "    <tr>\n",
       "      <th>873</th>\n",
       "      <td>대구광역시</td>\n",
       "      <td>*자영업자</td>\n",
       "      <td>2020-06-01</td>\n",
       "      <td>270.0</td>\n",
       "      <td>2020</td>\n",
       "      <td>06</td>\n",
       "    </tr>\n",
       "    <tr>\n",
       "      <th>927</th>\n",
       "      <td>대구광역시</td>\n",
       "      <td>*자영업자</td>\n",
       "      <td>2020-07-01</td>\n",
       "      <td>266.8</td>\n",
       "      <td>2020</td>\n",
       "      <td>07</td>\n",
       "    </tr>\n",
       "    <tr>\n",
       "      <th>981</th>\n",
       "      <td>대구광역시</td>\n",
       "      <td>*자영업자</td>\n",
       "      <td>2020-08-01</td>\n",
       "      <td>263.5</td>\n",
       "      <td>2020</td>\n",
       "      <td>08</td>\n",
       "    </tr>\n",
       "  </tbody>\n",
       "</table>\n",
       "</div>"
      ],
      "text/plain": [
       "       시도별 종사상지위별         날짜    인원수    연도   월\n",
       "603  대구광역시  *자영업자 2020-01-01  283.1  2020  01\n",
       "657  대구광역시  *자영업자 2020-02-01  288.2  2020  02\n",
       "711  대구광역시  *자영업자 2020-03-01  279.5  2020  03\n",
       "765  대구광역시  *자영업자 2020-04-01  278.0  2020  04\n",
       "819  대구광역시  *자영업자 2020-05-01  274.1  2020  05\n",
       "873  대구광역시  *자영업자 2020-06-01  270.0  2020  06\n",
       "927  대구광역시  *자영업자 2020-07-01  266.8  2020  07\n",
       "981  대구광역시  *자영업자 2020-08-01  263.5  2020  08"
      ]
     },
     "execution_count": 133,
     "metadata": {},
     "output_type": "execute_result"
    }
   ],
   "source": [
    "daegu_owners_2020 = self_owners[(self_owners['연도']==2020) & (self_owners['시도별']=='대구광역시')]"
   ]
  },
  {
   "cell_type": "code",
   "execution_count": 146,
   "metadata": {
    "scrolled": false
   },
   "outputs": [
    {
     "data": {
      "image/png": "[encoded data removed]",
      "text/plain": [
       "<Figure size 432x288 with 1 Axes>"
      ]
     },
     "metadata": {
      "needs_background": "light"
     },
     "output_type": "display_data"
    },
    {
     "data": {
      "image/png": "[encoded data removed]",
      "text/plain": [
       "<Figure size 432x288 with 1 Axes>"
      ]
     },
     "metadata": {
      "needs_background": "light"
     },
     "output_type": "display_data"
    }
   ],
   "source": [
    "daegu_owners_2019.pivot_table(index='월', values='인원수').plot(kind='line', color='blue')\n",
    "plt.title('2019년 대구 자영업자 인원수')\n",
    "daegu_owners_2020.pivot_table(index='월', values='인원수').plot(kind='line', color='red')\n",
    "plt.title('2020년 상반기 대구 자영업자 인원수')\n",
    "plt.show()"
   ]
  },
  {
   "cell_type": "code",
   "execution_count": 149,
   "metadata": {},
   "outputs": [
    {
     "data": {
      "image/png": "[encoded data removed]",
      "text/plain": [
       "<Figure size 432x288 with 1 Axes>"
      ]
     },
     "metadata": {
      "needs_background": "light"
     },
     "output_type": "display_data"
    },
    {
     "data": {
      "image/png": "[encoded data removed]",
      "text/plain": [
       "<Figure size 432x288 with 1 Axes>"
      ]
     },
     "metadata": {
      "needs_background": "light"
     },
     "output_type": "display_data"
    }
   ],
   "source": [
    "daegu_no_workers_2019 = no_workers[(no_workers['연도']==2019) & (no_workers['시도별']=='대구광역시')]\n",
    "daegu_no_workers_2020 = no_workers[(no_workers['연도']==2020) & (no_workers['시도별']=='대구광역시')]\n",
    "\n",
    "daegu_no_workers_2019.pivot_table(index='월', values='인원수').plot(kind='line', color='blue')\n",
    "plt.title('2019년 대구 고용인 없는 자영업자 인원수')\n",
    "daegu_no_workers_2020.pivot_table(index='월', values='인원수').plot(kind='line', color='red')\n",
    "plt.title('2020년 상반기 대구 고용인 없는 자영업자 인원수')\n",
    "plt.show()"
   ]
  },
  {
   "cell_type": "code",
   "execution_count": null,
   "metadata": {},
   "outputs": [],
   "source": []
  }
 ],
 "metadata": {
  "kernelspec": {
   "display_name": "Python 3",
   "language": "python",
   "name": "python3"
  },
  "language_info": {
   "codemirror_mode": {
    "name": "ipython",
    "version": 3
   },
   "file_extension": ".py",
   "mimetype": "text/x-python",
   "name": "python",
   "nbconvert_exporter": "python",
   "pygments_lexer": "ipython3",
   "version": "3.8.3"
  }
 },
 "nbformat": 4,
 "nbformat_minor": 4
}
